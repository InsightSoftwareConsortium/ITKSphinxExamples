{
 "cells": [
  {
   "cell_type": "markdown",
   "id": "d1bdfc3b",
   "metadata": {},
   "source": [
    "# Bridging ITK image data with NumPy array\n",
    "\n",
    "This example illustrates interfacing ITK Image data with NumPy array."
   ]
  },
  {
   "cell_type": "code",
   "execution_count": null,
   "id": "25e89adb",
   "metadata": {},
   "outputs": [],
   "source": [
    "import os\n",
    "import numpy as np\n",
    "from urllib.request import urlretrieve\n",
    "import matplotlib.pyplot as plt\n",
    "%matplotlib inline\n",
    "\n",
    "import itk\n",
    "from itkwidgets import view\n",
    "\n"
   ]
  },
  {
   "cell_type": "code",
   "execution_count": null,
   "id": "7cdd2254",
   "metadata": {},
   "outputs": [],
   "source": [
    "input_image_path = \"Slicer.png\"\n",
    "\n",
    "if not os.path.exists(input_image_path):\n",
    "    url = \"https://data.kitware.com/api/v1/file/602c10a22fa25629b97d2896/download\"\n",
    "    urlretrieve(url, input_image_path)"
   ]
  },
  {
   "cell_type": "code",
   "execution_count": null,
   "id": "edf8512f",
   "metadata": {},
   "outputs": [],
   "source": [
    "PixelType = itk.ctype(\"unsigned char\")\n",
    "ImageType = itk.Image[itk.UC, 2]\n",
    "\n",
    "itk_image = itk.imread(input_image_path, PixelType)\n",
    "\n",
    "OriginalRegion = itk_image.GetLargestPossibleRegion()\n",
    "OriginalSize = OriginalRegion.GetSize()\n",
    "\n",
    "print (f'ITK image size = {OriginalSize}')\n",
    "view(itk_image, ui_collapsed=True)"
   ]
  },
  {
   "cell_type": "code",
   "execution_count": null,
   "id": "4c1a935a",
   "metadata": {},
   "outputs": [],
   "source": [
    "array = itk.GetArrayFromImage(itk_image, ttype=ImageType)\n",
    "print(f'Array size = {array.shape}')\n",
    "plt.gray()\n",
    "plt.imshow(array)\n",
    "plt.axis('off')"
   ]
  },
  {
   "cell_type": "code",
   "execution_count": null,
   "id": "4efdcf7d",
   "metadata": {},
   "outputs": [],
   "source": [
    "itk_image_convert = itk.GetImageFromArray(np.ascontiguousarray(array))\n",
    "region = itk_image_convert.GetLargestPossibleRegion()\n",
    "size = region.GetSize()\n",
    "print(f'Size = {size}')"
   ]
  },
  {
   "cell_type": "code",
   "execution_count": null,
   "id": "753d085c",
   "metadata": {},
   "outputs": [],
   "source": []
  }
 ],
 "metadata": {
  "kernelspec": {
   "display_name": "Python 3 (ipykernel)",
   "language": "python",
   "name": "python3"
  },
  "language_info": {
   "codemirror_mode": {
    "name": "ipython",
    "version": 3
   },
   "file_extension": ".py",
   "mimetype": "text/x-python",
   "name": "python",
   "nbconvert_exporter": "python",
   "pygments_lexer": "ipython3",
   "version": "3.9.12"
  }
 },
 "nbformat": 4,
 "nbformat_minor": 5
}
