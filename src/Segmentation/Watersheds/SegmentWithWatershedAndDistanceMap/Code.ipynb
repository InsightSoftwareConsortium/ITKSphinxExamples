{
 "cells": [
  {
   "cell_type": "markdown",
   "source": [
    "# Watershed with Distance Map\n",
    "This example illustrates how to segment an image using the watershed method\n",
    "and the signed Maurer distance map."
   ],
   "metadata": {
    "collapsed": false
   }
  },
  {
   "cell_type": "code",
   "execution_count": null,
   "outputs": [],
   "source": [
    "import itk\n",
    "import matplotlib.pyplot as plt\n",
    "import numpy as np\n",
    "import pandas as pd\n"
   ],
   "metadata": {
    "collapsed": false,
    "pycharm": {
     "name": "#%%\n"
    }
   }
  },
  {
   "cell_type": "markdown",
   "source": [
    "Define the types to be used"
   ],
   "metadata": {
    "collapsed": false
   }
  },
  {
   "cell_type": "code",
   "execution_count": null,
   "outputs": [],
   "source": [
    "dimension = 3\n",
    "\n",
    "uchar_pixel_type = itk.UC\n",
    "uchar_image_type = itk.Image[uchar_pixel_type, dimension]\n",
    "\n",
    "float_pixel_type = itk.F\n",
    "float_image_type = itk.Image[float_pixel_type, dimension]\n",
    "\n",
    "rgb_pixel_type = itk.RGBPixel[uchar_pixel_type]\n",
    "RGBImageType = itk.Image[rgb_pixel_type, dimension]"
   ],
   "metadata": {
    "collapsed": false,
    "pycharm": {
     "name": "#%%\n"
    }
   }
  },
  {
   "cell_type": "markdown",
   "source": [
    "Display the input image and print its shape."
   ],
   "metadata": {
    "collapsed": false,
    "pycharm": {
     "name": "#%% md\n"
    }
   }
  },
  {
   "cell_type": "code",
   "execution_count": null,
   "outputs": [],
   "source": [
    "stack_image = itk.imread(\"PlateauBorder.tif\")\n",
    "print(stack_image.shape, stack_image.dtype)"
   ],
   "metadata": {
    "collapsed": false,
    "pycharm": {
     "name": "#%%\n"
    }
   }
  },
  {
   "cell_type": "code",
   "execution_count": null,
   "outputs": [],
   "source": [
    "%matplotlib inline\n",
    "\n",
    "# Display the input image projections\n",
    "fig, (ax1, ax2, ax3) = plt.subplots(1, 3, figsize=(12, 4))\n",
    "for i, (cax, clabel) in enumerate(zip([ax1, ax2, ax3], [\"xy\", \"zy\", \"zx\"])):\n",
    "    cax.imshow(np.sum(stack_image, i).squeeze(), cmap=\"bone_r\")\n",
    "    cax.set_title(\"{} projection\".format(clabel))\n",
    "    cax.set_xlabel(clabel[0])\n",
    "    cax.set_ylabel(clabel[1])"
   ],
   "metadata": {
    "collapsed": false,
    "pycharm": {
     "name": "#%%\n"
    }
   }
  },
  {
   "cell_type": "markdown",
   "source": [
    "## Create a bubble image\n",
    "The bubble image is the reverse of the plateau border image: there cannot be\n",
    "air where there is water."
   ],
   "metadata": {
    "collapsed": false
   }
  },
  {
   "cell_type": "code",
   "execution_count": null,
   "outputs": [],
   "source": [
    "index_radius = itk.Size[dimension]()\n",
    "index_radius.Fill(args.binarizing_radius)\n",
    "\n",
    "bubble_image = itk.voting_binary_iterative_hole_filling_image_filter(\n",
    "    stack_image,\n",
    "    radius=index_radius,\n",
    "    background_value=0,\n",
    "    foreground_value=255,\n",
    "    majority_threshold=args.majority_threshold,\n",
    ")\n",
    "\n",
    "plt.imshow(bubble_image[5], cmap=\"bone\")\n",
    "\n",
    "# Write bubble image\n",
    "itk.imwrite(bubble_image, \"ReversedInputImageTest01.tif\")"
   ],
   "metadata": {
    "collapsed": false,
    "pycharm": {
     "name": "#%%\n"
    }
   }
  },
  {
   "cell_type": "markdown",
   "source": [
    "## Watershed on bubbles\n",
    "Use the ITK watershed operation on the distance map of the input image."
   ],
   "metadata": {
    "collapsed": false
   }
  },
  {
   "cell_type": "code",
   "execution_count": null,
   "outputs": [],
   "source": [
    "%%time\n",
    "\n",
    "bbl_cast_image = itk.cast_image_filter(\n",
    "    bubble_image,\n",
    "    ttype=(uchar_image_type, float_image_type),\n",
    ")\n",
    "\n",
    "# Normalize the image to the [0, 255] range\n",
    "bubble_image_preclamp = itk.multiply_image_filter(\n",
    "    bbl_cast_image,\n",
    "    constant=255.0,\n",
    ")\n",
    "bubble_image_clamp = itk.clamp_image_filter(\n",
    "    bubble_image_preclamp,\n",
    "    bounds=(0, 255),\n",
    ")\n",
    "\n",
    "# Get the distance map of the input image\n",
    "distance_map_image = itk.signed_maurer_distance_map_image_filter(\n",
    "    bubble_image_clamp,\n",
    "    inside_is_positive=False,\n",
    ")\n",
    "itk.imwrite(distance_map_image, args.distance_map_output_filename)\n",
    "\n",
    "# Apply the watershed segmentation\n",
    "watershed_image = itk.watershed_image_filter(\n",
    "    distance_map_image,\n",
    "    threshold=args.watershed_threshold,\n",
    "    level=args.level,\n",
    ")\n",
    "\n",
    "# Cast to unsigned char so that it can be written as a TIFF image\n",
    "# WatershedImageFilter produces itk.ULL, but CastImageFilter does not wrap\n",
    "# itk.ULL: see ITK issue 2551\n",
    "# ws_cast_image = itk.cast_image_filter(watershed_image, ttype=(watershed_image.__class__, uchar_image_type))\n",
    "# Workaround\n",
    "rgb_ws_image = itk.scalar_to_rgb_colormap_image_filter(\n",
    "    watershed_image,\n",
    "    colormap=itk.ScalarToRGBColormapImageFilterEnums.RGBColormapFilter_Jet,\n",
    ")\n",
    "\n",
    "# itk.imwrite(ws_cast_image, args.watershed_output_filename)\n",
    "itk.imwrite(rgb_ws_image, args.watershed_output_filename)"
   ],
   "metadata": {
    "collapsed": false,
    "pycharm": {
     "name": "#%%\n"
    }
   }
  },
  {
   "cell_type": "markdown",
   "source": [
    "## Cut-through\n",
    "Show the values at a slice in the middle as a way to get a feeling for what the\n",
    "watershed and distance map did."
   ],
   "metadata": {
    "collapsed": false
   }
  },
  {
   "cell_type": "code",
   "execution_count": null,
   "outputs": [],
   "source": [
    "mid_slice = watershed_image.shape[0] // 2\n",
    "ws_vol_arr = itk.array_view_from_image(watershed_image)\n",
    "\n",
    "fig, (ax1, ax2, ax3) = plt.subplots(1, 3, figsize=(20, 7))\n",
    "ax1.imshow(bubble_image[mid_slice], cmap=\"bone\")\n",
    "ax1.set_title(\"Bubble image\")\n",
    "m_val = np.abs(dmap_vol[mid_slice]).std()\n",
    "ax2.imshow(dmap_vol[mid_slice], cmap=\"RdBu\", vmin=-m_val, vmax=m_val)\n",
    "ax2.set_title(\"Distance image\\nmin: {:2.2f}; max: {:2.2f}; mean: {:2.2f}\".format(\n",
    "    distance_map_image[mid_slice].min(),\n",
    "    distance_map_image[mid_slice].max(),\n",
    "    distance_map_image[mid_slice].mean())\n",
    ")\n",
    "ax3.imshow(ws_vol[mid_slice], cmap=\"nipy_spectral\")\n",
    "ax3.set_title(\"Watershed\\nLabels found: {}\".format(\n",
    "    len(np.unique(ws_vol_arr[ws_vol_arr > 0])))\n",
    ")\n",
    "\n",
    "fig.savefig(\"Pipeline_images.png\")"
   ],
   "metadata": {
    "collapsed": false,
    "pycharm": {
     "name": "#%%\n"
    }
   }
  },
  {
   "cell_type": "code",
   "execution_count": null,
   "outputs": [],
   "source": [
    "%matplotlib inline\n",
    "\n",
    "# Show segmentation result projections\n",
    "fig, (ax1, ax2, ax3) = plt.subplots(1, 3, figsize=(12, 4))\n",
    "for i, (cax, clabel) in enumerate(zip([ax1, ax2, ax3], [\"xy\", \"zy\", \"zx\"])):\n",
    "    cax.imshow(np.max(ws_vol_arr, i).squeeze(), cmap=\"nipy_spectral\")\n",
    "    cax.set_title(\"{} projection\".format(clabel))\n",
    "    cax.set_xlabel(clabel[0])\n",
    "    cax.set_ylabel(clabel[1])\n",
    "\n",
    "fig.savefig(\"Segmentation_projections.png\")"
   ],
   "metadata": {
    "collapsed": false,
    "pycharm": {
     "name": "#%%\n"
    }
   }
  },
  {
   "cell_type": "markdown",
   "source": [
    "## Clean the segmentation and relabel\n",
    "Clean the segmentation image: remove small objects by performing an\n",
    "opening morphological operation and relabel in order."
   ],
   "metadata": {
    "collapsed": false
   }
  },
  {
   "cell_type": "code",
   "execution_count": null,
   "outputs": [],
   "source": [
    "bubble_label_image = np.zeros(watershed_image.shape).astype(np.uint16)\n",
    "new_idx = 1\n",
    "bubble_ids = [\n",
    "    (idx, np.sum(watershed_image[watershed_image==idx] > 0))\n",
    "    for idx in np.unique(watershed_image[watershed_image > 0])\n",
    "]\n",
    "\n",
    "dimension = len(np.shape(bubble_image))\n",
    "structuring_element_type = itk.FlatStructuringElement[dimension]\n",
    "# Bubbles are round\n",
    "structuring_element = structuring_element_type.Ball(\n",
    "    args.cleaning_structuring_element_radius\n",
    ")\n",
    "\n",
    "from tqdm import tqdm\n",
    "\n",
    "# Count the kept bubbles in bubble label image\n",
    "for old_idx, vol in tqdm(sorted(bubble_ids, key = lambda x: x[1])):\n",
    "    if 40000 < vol < 400000:\n",
    "        old_img = watershed_image==old_idx\n",
    "        cleaned_img = itk.binary_morphological_opening_image_filter(\n",
    "            old_img,\n",
    "            kernel=structuring_element,\n",
    "        )\n",
    "        bubble_label_image[old_img] = new_idx\n",
    "        new_idx += 1\n",
    "\n",
    "print(\"Total bubbles kept: {}/{}\".format(new_idx, len(bubble_ids)))\n",
    "\n",
    "# itk.imwrite(segmented_clean_image, \"Clean_segmentation.tif\")"
   ],
   "metadata": {
    "collapsed": false,
    "pycharm": {
     "name": "#%%\n"
    }
   }
  },
  {
   "cell_type": "code",
   "execution_count": null,
   "outputs": [],
   "source": [
    "%matplotlib inline\n",
    "fig, (ax1, ax2, ax3) = plt.subplots(1, 3, figsize=(12, 4))\n",
    "for i, (cax, clabel) in enumerate(zip([ax1, ax2, ax3], [\"xy\", \"zy\", \"zx\"])):\n",
    "    cax.imshow(\n",
    "        np.max(bubble_label_image, i),\n",
    "        cmap=\"jet\",\n",
    "        vmin=0,\n",
    "        vmax=new_idx,\n",
    "    )\n",
    "    cax.set_title(\"{} projection\".format(clabel))\n",
    "    cax.set_xlabel(clabel[0])\n",
    "    cax.set_ylabel(clabel[1])\n",
    "\n",
    "fig.savefig(\"Clean_segmentation_projections.png\")"
   ],
   "metadata": {
    "collapsed": false,
    "pycharm": {
     "name": "#%%\n"
    }
   }
  },
  {
   "cell_type": "markdown",
   "source": [
    "## Show 3D rendering"
   ],
   "metadata": {
    "collapsed": false
   }
  },
  {
   "cell_type": "code",
   "execution_count": null,
   "outputs": [],
   "source": [
    "from mpl_toolkits.mplot3d.art3d import Poly3DCollection\n",
    "from skimage import measure\n",
    "from tqdm import tqdm\n",
    "\n",
    "# Show 3D rendering\n",
    "def show_3d_mesh(image, thresholds):\n",
    "    p = image[::-1].swapaxes(1, 2)\n",
    "    cmap = plt.cm.get_cmap(\"nipy_spectral_r\")\n",
    "    _fig = plt.figure(figsize=(10, 10))\n",
    "    ax = _fig.add_subplot(111, projection=\"3d\")\n",
    "    for _i, c_threshold in tqdm(list(enumerate(thresholds))):\n",
    "        verts, faces, _, _ = measure.marching_cubes(p==c_threshold, level=0)\n",
    "        mesh = Poly3DCollection(\n",
    "            verts[faces],\n",
    "            alpha=0.25,\n",
    "            edgecolor=None,\n",
    "            linewidth=0.1,\n",
    "        )\n",
    "        mesh.set_facecolor(cmap(_i / len(thresholds))[:3])\n",
    "        mesh.set_edgecolor([1, 0, 0])\n",
    "        ax.add_collection3d(mesh)\n",
    "\n",
    "    ax.set_xlim(0, p.shape[0])\n",
    "    ax.set_ylim(0, p.shape[1])\n",
    "    ax.set_zlim(0, p.shape[2])\n",
    "\n",
    "    ax.view_init(45, 45)\n",
    "    return _fig"
   ],
   "metadata": {
    "collapsed": false,
    "pycharm": {
     "name": "#%%\n"
    }
   }
  },
  {
   "cell_type": "code",
   "execution_count": null,
   "outputs": [],
   "source": [
    "fig = show_3d_mesh(bubble_label_image, range(1, np.max(bubble_label_image), 10))\n",
    "\n",
    "# Write 3D rendering of segmented image\n",
    "fig.savefig(\"Volume_rendering.png\")"
   ],
   "metadata": {
    "collapsed": false,
    "pycharm": {
     "name": "#%%\n"
    }
   }
  },
  {
   "cell_type": "markdown",
   "source": [
    "## Calculate bubble centers"
   ],
   "metadata": {
    "collapsed": false
   }
  },
  {
   "cell_type": "code",
   "execution_count": null,
   "outputs": [],
   "source": [
    "def meshgrid3d_like(in_img):\n",
    "    return np.meshgrid(\n",
    "        range(in_img.shape[1]),range(in_img.shape[0]), range(in_img.shape[2])\n",
    "    )\n",
    "\n",
    "zz, xx, yy = meshgrid3d_like(bubble_label_image)\n",
    "\n",
    "out_results = []\n",
    "for c_label in np.unique(bubble_label_image):  # one bubble at a time\n",
    "    if c_label > 0:  # ignore background\n",
    "        cur_roi = bubble_label_image == c_label\n",
    "        out_results += [\n",
    "            {\n",
    "                \"x\": xx[cur_roi].mean(),\n",
    "                \"y\": yy[cur_roi].mean(),\n",
    "                \"z\": zz[cur_roi].mean(),\n",
    "                \"volume\": np.sum(cur_roi),\n",
    "            }\n",
    "        ]\n",
    "\n",
    "# Write the bubble volume stats\n",
    "import pandas as pd\n",
    "out_table = pd.DataFrame(out_results)\n",
    "out_table.to_csv(\"bubble_volume_out.csv\")\n",
    "\n",
    "# Write the bubble volume stats sample table\n",
    "volume_sample = out_table.sample(5)\n",
    "volume_sample.save(\"Bubble_volume_stats_sample.ong\")"
   ],
   "metadata": {
    "collapsed": false,
    "pycharm": {
     "name": "#%%\n"
    }
   }
  },
  {
   "cell_type": "code",
   "execution_count": null,
   "outputs": [],
   "source": [
    "# Write the bubble volume density plot\n",
    "bubble_volume_density = out_table[\"volume\"].plot.density()\n",
    "bubble_volume_density.save(\"Bubble_volume_density_stats.png\")"
   ],
   "metadata": {
    "collapsed": false,
    "pycharm": {
     "name": "#%%\n"
    }
   }
  },
  {
   "cell_type": "code",
   "execution_count": null,
   "outputs": [],
   "source": [
    "# Write the bubble center plot\n",
    "bubble_centers_plot = out_table.plot.hexbin(\"x\", \"y\", gridsize=(5, 5))\n",
    "bubble_centers_plot.save(\"Bubble_centers.png\")"
   ],
   "metadata": {
    "collapsed": false,
    "pycharm": {
     "name": "#%%\n"
    }
   }
  },
  {
   "cell_type": "markdown",
   "source": [
    "## Compare with the training values"
   ],
   "metadata": {
    "collapsed": false
   }
  },
  {
   "cell_type": "code",
   "execution_count": null,
   "outputs": [],
   "source": [
    "train_values = pd.read_csv(\"bubble_volume.csv\")"
   ],
   "metadata": {
    "collapsed": false,
    "pycharm": {
     "name": "#%%\n"
    }
   }
  },
  {
   "cell_type": "code",
   "execution_count": null,
   "outputs": [],
   "source": [
    "%matplotlib inline\n",
    "fig, (ax1, ax2) = plt.subplots(1, 2, figsize=(8, 4))\n",
    "_, n_bins, _ = ax1.hist(\n",
    "    np.log10(train_values[\"volume\"]), bins=20, label=\"Training volumes\"\n",
    ")\n",
    "ax1.hist(np.log10(\n",
    "    out_table[\"volume\"]),\n",
    "    n_bins,\n",
    "    alpha=0.5,\n",
    "    label=\"Watershed volumes\",\n",
    ")\n",
    "ax1.legend()\n",
    "ax1.set_title(\"Volume comparison\\n(Log10)\")\n",
    "ax2.plot(\n",
    "    out_table[\"x\"],\n",
    "    out_table[\"y\"],\n",
    "    \"r.\",\n",
    "    train_values[\"x\"],\n",
    "    train_values[\"y\"],\n",
    "    \"b.\",\n",
    ")\n",
    "ax2.legend([\"Watershed bubbles\", \"Training bubbles\"])\n",
    "\n",
    "fig.savefig(\"Bubble_stats.png\")"
   ],
   "metadata": {
    "collapsed": false,
    "pycharm": {
     "name": "#%%\n"
    }
   }
  }
 ],
 "metadata": {
  "kernelspec": {
   "display_name": "Python 3",
   "language": "python",
   "name": "python3"
  },
  "language_info": {
   "codemirror_mode": {
    "name": "ipython",
    "version": 3
   },
   "file_extension": ".py",
   "mimetype": "text/x-python",
   "name": "python",
   "nbconvert_exporter": "python",
   "pygments_lexer": "ipython3",
   "version": "3.8.6"
  }
 },
 "nbformat": 4,
 "nbformat_minor": 5
}
